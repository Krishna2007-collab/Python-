{
 "cells": [
  {
   "cell_type": "code",
   "execution_count": 1,
   "id": "cf79982f-9710-4ced-9713-90ddd6c4ddde",
   "metadata": {},
   "outputs": [
    {
     "name": "stdout",
     "output_type": "stream",
     "text": [
      "Student Details:\n",
      "Name: Ankita\n",
      "Age: 18\n",
      "Roll Number: 255812\n"
     ]
    }
   ],
   "source": [
    "#Set A\n",
    "#1\n",
    "class Person:\n",
    "    def __init__(self, name, age):\n",
    "        self.name = name\n",
    "        self.age = age\n",
    "\n",
    "class Student(Person):\n",
    "    def __init__(self, name, age, roll_number):\n",
    "        super().__init__(name, age)\n",
    "        self.roll_number = roll_number\n",
    "\n",
    "    def display_details(self):\n",
    "        print(\"Student Details:\")\n",
    "        print(f\"Name: {self.name}\")\n",
    "        print(f\"Age: {self.age}\")\n",
    "        print(f\"Roll Number: {self.roll_number}\")\n",
    "student1 = Student(\"Ankita\", 18, 255812)\n",
    "student1.display_details()"
   ]
  },
  {
   "cell_type": "code",
   "execution_count": 2,
   "id": "631cd96c-5c31-4ed1-968b-697238679fc6",
   "metadata": {},
   "outputs": [
    {
     "name": "stdout",
     "output_type": "stream",
     "text": [
      "Book ID: 101\n",
      "Book Name: The Great Gatsby\n",
      "Publisher: Scribner\n",
      "ISBN Number: 978-0743273565\n"
     ]
    }
   ],
   "source": [
    "#Set A\n",
    "# 2\n",
    "class Book:\n",
    "    def __init__(self, book_id, book_name):\n",
    "        self.book_id = book_id\n",
    "        self.book_name = book_name\n",
    "\n",
    "class BookDetails(Book):\n",
    "    def __init__(self, book_id, book_name, publisher, isbn_number):\n",
    "        super().__init__(book_id, book_name)\n",
    "        self.publisher = publisher\n",
    "        self.isbn_number = isbn_number\n",
    "\n",
    "    def display(self):\n",
    "        print(\"Book ID:\", self.book_id)\n",
    "        print(\"Book Name:\", self.book_name)\n",
    "        print(\"Publisher:\", self.publisher)\n",
    "        print(\"ISBN Number:\", self.isbn_number)\n",
    "\n",
    "book1 = BookDetails(101, \"The Great Gatsby\", \"Scribner\", \"978-0743273565\")\n",
    "book1.display()\n"
   ]
  },
  {
   "cell_type": "code",
   "execution_count": 3,
   "id": "784e0122-50d8-43c6-8301-7047ba5e6f8e",
   "metadata": {},
   "outputs": [
    {
     "name": "stdout",
     "output_type": "stream",
     "text": [
      "Addition of 15 and 25 is: 40\n",
      "Mean of the list is: 55.0\n"
     ]
    }
   ],
   "source": [
    "#Set B\n",
    "#1\n",
    "class MathOperations:\n",
    "    def add(self, a, b):\n",
    "        return a + b\n",
    "\n",
    "class Statistics:\n",
    "    def mean(self, numbers):\n",
    "        if len(numbers) != 10:\n",
    "            raise ValueError(\"List must contain exactly 10 numbers.\")\n",
    "        return sum(numbers) / len(numbers)\n",
    "\n",
    "class DataScientist(MathOperations, Statistics):\n",
    "    def display_results(self):\n",
    "\n",
    "        sum_result = self.add(15, 25)\n",
    "        print(\"Addition of 15 and 25 is:\", sum_result)\n",
    "\n",
    "        data = [10, 20, 30, 40, 50, 60, 70, 80, 90, 100]\n",
    "        mean_result = self.mean(data)\n",
    "        print(\"Mean of the list is:\", mean_result)\n",
    "\n",
    "ds = DataScientist()\n",
    "ds.display_results()\n"
   ]
  },
  {
   "cell_type": "code",
   "execution_count": 4,
   "id": "280248de-e07f-4362-b976-b19d7ba03e51",
   "metadata": {},
   "outputs": [
    {
     "name": "stdout",
     "output_type": "stream",
     "text": [
      "Item Number: 101\n",
      "Item Name: USB Flash Drive\n",
      "Quantity: 5\n",
      "Unit Price: 12.5\n",
      "Total Price: 62.5\n"
     ]
    }
   ],
   "source": [
    "#Set B\n",
    "#2\n",
    "class Item:\n",
    "    def __init__(self, item_no, item_name):\n",
    "        self.item_no = item_no\n",
    "        self.item_name = item_name\n",
    "\n",
    "class Price(Item):\n",
    "    def __init__(self, item_no, item_name, quantity, unit_price):\n",
    "        super().__init__(item_no, item_name)\n",
    "        self.quantity = quantity\n",
    "        self.unit_price = unit_price\n",
    "\n",
    "    def calculate_total_price(self):\n",
    "        return self.quantity * self.unit_price\n",
    "\n",
    "    def display(self):\n",
    "        print(\"Item Number:\", self.item_no)\n",
    "        print(\"Item Name:\", self.item_name)\n",
    "        print(\"Quantity:\", self.quantity)\n",
    "        print(\"Unit Price:\", self.unit_price)\n",
    "        print(\"Total Price:\", self.calculate_total_price())\n",
    "\n",
    "item1 = Price(101, \"USB Flash Drive\", 5, 12.5)\n",
    "item1.display()\n"
   ]
  },
  {
   "cell_type": "code",
   "execution_count": 6,
   "id": "b615ffd9-7339-4ed2-993f-c85434aff3c9",
   "metadata": {},
   "outputs": [
    {
     "name": "stdout",
     "output_type": "stream",
     "text": [
      "Circle area: 78.53981633974483\n",
      "Rectangle area: 24\n"
     ]
    }
   ],
   "source": [
    "#SET B\n",
    "#3\n",
    "import math\n",
    "\n",
    "class Shape:\n",
    "    def area(self):\n",
    "        return \"Area method not implemented in base class\"\n",
    "\n",
    "class Circle(Shape):\n",
    "    def __init__(self, radius):\n",
    "        self.radius = radius\n",
    "\n",
    "    def area(self):\n",
    "        return math.pi * self.radius ** 2\n",
    "\n",
    "class Rectangle(Shape):\n",
    "    def __init__(self, width, height):\n",
    "        self.width = width\n",
    "        self.height = height\n",
    "\n",
    "    def area(self):\n",
    "        return self.width * self.height\n",
    "\n",
    "circle = Circle(radius=5)\n",
    "rectangle = Rectangle(width=4, height=6)\n",
    "\n",
    "\n",
    "print(\"Circle area:\", circle.area())\n",
    "print(\"Rectangle area:\", rectangle.area())\n"
   ]
  },
  {
   "cell_type": "code",
   "execution_count": null,
   "id": "36ed8fc2-8d9d-4d46-853e-e889d1ba1ba9",
   "metadata": {},
   "outputs": [],
   "source": []
  }
 ],
 "metadata": {
  "kernelspec": {
   "display_name": "Python 3",
   "language": "python",
   "name": "python3"
  },
  "language_info": {
   "codemirror_mode": {
    "name": "ipython",
    "version": 3
   },
   "file_extension": ".py",
   "mimetype": "text/x-python",
   "name": "python",
   "nbconvert_exporter": "python",
   "pygments_lexer": "ipython3",
   "version": "3.13.5"
  }
 },
 "nbformat": 4,
 "nbformat_minor": 5
}

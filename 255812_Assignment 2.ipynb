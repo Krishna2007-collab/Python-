{
 "cells": [
  {
   "cell_type": "code",
   "execution_count": 2,
   "id": "e42fd5ca",
   "metadata": {},
   "outputs": [
    {
     "name": "stdout",
     "output_type": "stream",
     "text": [
      "[1, 2, 3, 4, 5]\n"
     ]
    }
   ],
   "source": [
    "#set A\n",
    "#list\n",
    "list=[1,2,3,4,5]\n",
    "print(list)\n",
    "\n"
   ]
  },
  {
   "cell_type": "code",
   "execution_count": 3,
   "id": "6de9f3b2-9be3-47db-ab31-09a548734e96",
   "metadata": {},
   "outputs": [
    {
     "name": "stdout",
     "output_type": "stream",
     "text": [
      "blue\n"
     ]
    }
   ],
   "source": [
    "#seta\n",
    "#list\n",
    "list=[\"red\",\"blue\",\"green\"]\n",
    "print(list[1])\n"
   ]
  },
  {
   "cell_type": "code",
   "execution_count": 4,
   "id": "598875ba-72f7-4de4-a78d-3a132f157225",
   "metadata": {},
   "outputs": [
    {
     "name": "stdout",
     "output_type": "stream",
     "text": [
      "['b', 'c']\n"
     ]
    }
   ],
   "source": [
    "#seta\n",
    "#list\n",
    "list=[\"a\",\"b\",\"c\",\"d\"]\n",
    "print(list[1:3])\n"
   ]
  },
  {
   "cell_type": "code",
   "execution_count": 6,
   "id": "c3493276-f410-4e58-87fd-a340e94d27ba",
   "metadata": {},
   "outputs": [
    {
     "name": "stdout",
     "output_type": "stream",
     "text": [
      "('anushka', 'ankita', 'krishna')\n"
     ]
    }
   ],
   "source": [
    "#seta\n",
    "#tuples\n",
    "tuple=(\"anushka\",\"ankita\",\"krishna\")\n",
    "print(tuple)\n"
   ]
  },
  {
   "cell_type": "code",
   "execution_count": 7,
   "id": "6069dc7d-0680-4dcf-b711-6f7fb6c510fe",
   "metadata": {},
   "outputs": [
    {
     "name": "stdout",
     "output_type": "stream",
     "text": [
      "([1, 2, 3, 4, 5], 234, 'ankita')\n"
     ]
    }
   ],
   "source": [
    "#seta\n",
    "#tuples\n",
    "tuple=([1,2,3,4,5],234,\"ankita\")\n",
    "print(tuple)\n"
   ]
  },
  {
   "cell_type": "code",
   "execution_count": 10,
   "id": "dc4091af-5f26-46f1-ab63-7c4681fe8888",
   "metadata": {},
   "outputs": [
    {
     "name": "stdout",
     "output_type": "stream",
     "text": [
      "(1, 2, 'x', 'y')\n"
     ]
    }
   ],
   "source": [
    "#set a \n",
    "#tuples\n",
    "tuple1=(1,2)\n",
    "tuple2=(\"x\",\"y\")\n",
    "tuple3=(tuple1+tuple2)\n",
    "print(tuple3)\n"
   ]
  },
  {
   "cell_type": "code",
   "execution_count": 13,
   "id": "553da2f8-15b6-4ba8-ab94-d7c42c966375",
   "metadata": {},
   "outputs": [
    {
     "name": "stdout",
     "output_type": "stream",
     "text": [
      "{1, 2, 3}\n"
     ]
    }
   ],
   "source": [
    "#seta\n",
    "#sets\n",
    "set1={1,2}\n",
    "set2={2,3}\n",
    "set3=set1.union(set2)\n",
    "print(set3)\n"
   ]
  },
  {
   "cell_type": "code",
   "execution_count": 15,
   "id": "7101644e-e188-4611-aa4d-2aebf457736f",
   "metadata": {},
   "outputs": [
    {
     "name": "stdout",
     "output_type": "stream",
     "text": [
      "{3}\n"
     ]
    }
   ],
   "source": [
    "\n",
    "#set a \n",
    "#sets\n",
    "set1={1,2,3}\n",
    "set2={3,4}\n",
    "set3=set1.intersection(set2)\n",
    "print(set3)\n"
   ]
  },
  {
   "cell_type": "code",
   "execution_count": 16,
   "id": "97e24a68-4454-48f7-a6ab-b3468869af02",
   "metadata": {},
   "outputs": [
    {
     "name": "stdout",
     "output_type": "stream",
     "text": [
      "{1, 3}\n"
     ]
    }
   ],
   "source": [
    "#seta\n",
    "#sets\n",
    "set1={1,2}\n",
    "set2={2,3}\n",
    "set3=set1.union(set2)\n",
    "set4=set1.intersection(set2)\n",
    "set5=set3-set4\n",
    "print(set5)\n"
   ]
  },
  {
   "cell_type": "code",
   "execution_count": 17,
   "id": "69961aee-0940-4cea-9c03-f8c5152d11ff",
   "metadata": {},
   "outputs": [
    {
     "name": "stdout",
     "output_type": "stream",
     "text": [
      "{'cow': 'mooing', 'dog': 'barking', 'lion': 'roar'}\n"
     ]
    }
   ],
   "source": [
    "#seta\n",
    "#dictonaries\n",
    "ani={\"cow\":\"mooing\",\"dog\":\"barking\",\"lion\":\"roar\"}\n",
    "print(ani)\n"
   ]
  },
  {
   "cell_type": "code",
   "execution_count": 19,
   "id": "0ab5e785-f8ff-4679-ab50-8346e4de1fd6",
   "metadata": {},
   "outputs": [
    {
     "name": "stdout",
     "output_type": "stream",
     "text": [
      "yellow\n"
     ]
    }
   ],
   "source": [
    "#seta\n",
    "#dictonaries\n",
    "dict={\"apple\":\"red\",\"banana\":\"yellow\"}\n",
    "print(dict[\"banana\"])\n"
   ]
  },
  {
   "cell_type": "code",
   "execution_count": 25,
   "id": "962a87d2-56d8-4bb0-91d9-ebeb8a9fea9b",
   "metadata": {},
   "outputs": [
    {
     "name": "stdout",
     "output_type": "stream",
     "text": [
      "['a', 'b', 'c']\n"
     ]
    }
   ],
   "source": [
    "#seta\n",
    "#dictonaries\n",
    "dict1={\"a\":3,\"b\":1,\"c\":2}\n",
    "sort=sorted(dict1) \n",
    "print(sort)\n"
   ]
  },
  {
   "cell_type": "code",
   "execution_count": 8,
   "id": "98a303a9-6f31-4520-9107-afa624d7ed50",
   "metadata": {},
   "outputs": [
    {
     "name": "stdout",
     "output_type": "stream",
     "text": [
      "{'size': 'small', 'color': 'blue'}\n"
     ]
    }
   ],
   "source": [
    "#seta\n",
    "#dictonaries\n",
    "dict1={\"size\":\"small\"}\n",
    "dict2={\"color\":\"blue\"}\n",
    "dict3=dict1.update(dict2)\n",
    "print(dict1)\n",
    "       "
   ]
  },
  {
   "cell_type": "code",
   "execution_count": 34,
   "id": "eb65d1c1-9914-4675-8cd6-4631eca48ec8",
   "metadata": {},
   "outputs": [
    {
     "name": "stdout",
     "output_type": "stream",
     "text": [
      "[1, 2, 3, 4, 5]\n"
     ]
    }
   ],
   "source": [
    "#setb\n",
    "#lists\n",
    "list1=[1,2,3,4,5,1,2]\n",
    "list2=[]\n",
    "for item in list1:\n",
    "    if item not in list2:\n",
    "        list2.append(item)\n",
    "print(list2)"
   ]
  },
  {
   "cell_type": "code",
   "execution_count": 11,
   "id": "4eb449a3-9e15-4d6f-9720-6b69f86b93a3",
   "metadata": {},
   "outputs": [
    {
     "name": "stdout",
     "output_type": "stream",
     "text": [
      "the list is empty\n"
     ]
    }
   ],
   "source": [
    "#setb\n",
    "#lists\n",
    "list1=[]\n",
    "if list1==[] :\n",
    "   print(\"the list is empty\")\n",
    "else:\n",
    "   print(\"the list is not empty\")"
   ]
  },
  {
   "cell_type": "code",
   "execution_count": 21,
   "id": "7b527cd9-fe31-49cd-8273-7640639c8c4b",
   "metadata": {},
   "outputs": [
    {
     "name": "stdout",
     "output_type": "stream",
     "text": [
      "[10, 9, 8, 7, 6, 5, 4, 3, 1]\n",
      "10\n"
     ]
    }
   ],
   "source": [
    "#setb\n",
    "#lists\n",
    "list1=[1,6,5,4,3,8,9,7,10]\n",
    "list2=list1.sort(reverse=True)\n",
    "print(list1)\n",
    "print(list1[0])\n"
   ]
  },
  {
   "cell_type": "code",
   "execution_count": 23,
   "id": "d1810fbb-c7c4-4f26-8176-55ef9409d79a",
   "metadata": {},
   "outputs": [
    {
     "name": "stdout",
     "output_type": "stream",
     "text": [
      "['bird', 'cat', 'dog']\n"
     ]
    }
   ],
   "source": [
    "#setb\n",
    "#lists\n",
    "list1=[\"cat\",\"dog\",\"bird\"]\n",
    "list1.sort()\n",
    "print(list1)\n"
   ]
  },
  {
   "cell_type": "code",
   "execution_count": 26,
   "id": "72250eac-0999-4808-a1dd-21f83c659b30",
   "metadata": {},
   "outputs": [
    {
     "name": "stdout",
     "output_type": "stream",
     "text": [
      "(1, 2, 3, 4, 5, 6, 7, 8, 9, 10)\n"
     ]
    }
   ],
   "source": [
    "#Set B\n",
    "#Tuples\n",
    "list1=[1,2,3,4,5,6,7,8,9,10]\n",
    "tuple1=tuple(list1)\n",
    "print(tuple1)"
   ]
  },
  {
   "cell_type": "code",
   "execution_count": 2,
   "id": "8b9eacfe-ced3-42ad-9e92-678f1c0badc3",
   "metadata": {},
   "outputs": [
    {
     "name": "stdout",
     "output_type": "stream",
     "text": [
      "(1, 3)\n"
     ]
    }
   ],
   "source": [
    "#Set B\n",
    "#Tuples\n",
    "tuple1=(1,2,3)\n",
    "list1=list(tuple1)\n",
    "list1.remove(2)\n",
    "tuple2=tuple(list1)\n",
    "print(tuple2)\n"
   ]
  },
  {
   "cell_type": "code",
   "execution_count": 34,
   "id": "ccb4ae6a-8324-430c-bd2d-b055b8345767",
   "metadata": {},
   "outputs": [
    {
     "data": {
      "text/plain": [
       "(10, 20)"
      ]
     },
     "execution_count": 34,
     "metadata": {},
     "output_type": "execute_result"
    }
   ],
   "source": [
    "#Set B\n",
    "#Tuples\n",
    "tuple1=(10,20,30,40)\n",
    "tuple1[0:2]\n",
    "\n"
   ]
  },
  {
   "cell_type": "code",
   "execution_count": 37,
   "id": "599236e5-f4d1-4781-a986-298756e321a6",
   "metadata": {},
   "outputs": [
    {
     "name": "stdout",
     "output_type": "stream",
     "text": [
      "tuple1= Hi\n",
      "tuple2= World\n"
     ]
    }
   ],
   "source": [
    "#Set B\n",
    "#Tuples\n",
    "tuple1,tuple2=(\"Hi\",\"World\")\n",
    "print(\"tuple1=\",tuple1)\n",
    "print(\"tuple2=\",tuple2)\n",
    "\n"
   ]
  },
  {
   "cell_type": "code",
   "execution_count": 42,
   "id": "f6a5ad48-3a71-400d-b9b1-02dac33e6531",
   "metadata": {},
   "outputs": [
    {
     "name": "stdout",
     "output_type": "stream",
     "text": [
      "True\n"
     ]
    }
   ],
   "source": [
    "#SetB\n",
    "#Sets\n",
    "subset={1}\n",
    "t=(1,2,3)\n",
    "print(subset.issubset(set(t)))\n"
   ]
  },
  {
   "cell_type": "code",
   "execution_count": 41,
   "id": "d0229b27-489c-4fd7-9259-9aa6faa12e51",
   "metadata": {},
   "outputs": [
    {
     "name": "stdout",
     "output_type": "stream",
     "text": [
      "{1, 2, 3, 4}\n"
     ]
    }
   ],
   "source": [
    "#SetB\n",
    "#Sets\n",
    "set1={1,2,3}\n",
    "set1.add(4)\n",
    "print(set1)\n"
   ]
  },
  {
   "cell_type": "code",
   "execution_count": 43,
   "id": "1515d825-6a48-4bb3-a654-392ef1260b37",
   "metadata": {},
   "outputs": [
    {
     "name": "stdout",
     "output_type": "stream",
     "text": [
      "3\n"
     ]
    }
   ],
   "source": [
    "#SetB\n",
    "#Sets\n",
    "set1={5,3,8}\n",
    "print(min(set1))\n"
   ]
  },
  {
   "cell_type": "code",
   "execution_count": 44,
   "id": "d5958ea0-df3c-42a8-b8bc-97a6e5d94a41",
   "metadata": {},
   "outputs": [
    {
     "name": "stdout",
     "output_type": "stream",
     "text": [
      "{1, 3}\n"
     ]
    }
   ],
   "source": [
    "#SetB\n",
    "#Sets\n",
    "s={1,2,3}\n",
    "s.remove(2)\n",
    "print(s)\n"
   ]
  },
  {
   "cell_type": "code",
   "execution_count": 47,
   "id": "e48d582d-1704-48cd-a285-744d1a8f9409",
   "metadata": {},
   "outputs": [
    {
     "name": "stdout",
     "output_type": "stream",
     "text": [
      "name Alice\n",
      "age 10\n"
     ]
    }
   ],
   "source": [
    "#SetB\n",
    "#Dictionaries\n",
    "student={\"name\":\"Alice\",\"age\":10}\n",
    "for key,value in student.items():\n",
    "    print(key,value)\n",
    "    \n"
   ]
  },
  {
   "cell_type": "code",
   "execution_count": 48,
   "id": "8112e31f-b9db-4228-9732-4aca681bedb0",
   "metadata": {},
   "outputs": [
    {
     "name": "stdout",
     "output_type": "stream",
     "text": [
      "{'a': 1, 'b': 2}\n"
     ]
    }
   ],
   "source": [
    "#SetB\n",
    "#Dictionaries\n",
    "dict1={'a':1}\n",
    "dict2={'b':2}\n",
    "combined={**dict1,**dict2}\n",
    "print(combined)\n"
   ]
  },
  {
   "cell_type": "code",
   "execution_count": 49,
   "id": "fb3edb0e-c8e4-40c6-b7df-c097ce739cef",
   "metadata": {},
   "outputs": [
    {
     "name": "stdout",
     "output_type": "stream",
     "text": [
      "{'name': 'bob', 'age': 11}\n"
     ]
    }
   ],
   "source": [
    "#SetB\n",
    "#Dictionaries\n",
    "person={'name':'bob','age':10}\n",
    "person['age']=11\n",
    "print(person)"
   ]
  },
  {
   "cell_type": "code",
   "execution_count": 50,
   "id": "36dbf147-e600-47a6-9df7-ea37f7b95338",
   "metadata": {},
   "outputs": [
    {
     "name": "stdout",
     "output_type": "stream",
     "text": [
      "{'x': 8, 'y': 14}\n"
     ]
    }
   ],
   "source": [
    "#SetB\n",
    "#Dictionaries\n",
    "dict1={\"x\":5,\"y\":10}\n",
    "dict2={\"x\":3,\"y\":4}\n",
    "result={k:dict1[k]+dict2[k] for k in dict1}\n",
    "print(result)\n"
   ]
  },
  {
   "cell_type": "code",
   "execution_count": null,
   "id": "913194d6-9966-4cdc-8480-81b053ea5be4",
   "metadata": {},
   "outputs": [],
   "source": []
  }
 ],
 "metadata": {
  "kernelspec": {
   "display_name": "Python 3 (ipykernel)",
   "language": "python",
   "name": "python3"
  },
  "language_info": {
   "codemirror_mode": {
    "name": "ipython",
    "version": 3
   },
   "file_extension": ".py",
   "mimetype": "text/x-python",
   "name": "python",
   "nbconvert_exporter": "python",
   "pygments_lexer": "ipython3",
   "version": "3.13.5"
  }
 },
 "nbformat": 4,
 "nbformat_minor": 5
}

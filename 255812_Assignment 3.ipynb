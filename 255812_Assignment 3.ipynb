{
 "cells": [
  {
   "cell_type": "code",
   "execution_count": 1,
   "id": "746bf3ec-4d12-42fe-ba46-5e76dc6b6d28",
   "metadata": {},
   "outputs": [
    {
     "name": "stdin",
     "output_type": "stream",
     "text": [
      "enter a number: 16\n"
     ]
    },
    {
     "name": "stdout",
     "output_type": "stream",
     "text": [
      "False\n"
     ]
    }
   ],
   "source": [
    "#Set A\n",
    "num=int(input(\"enter a number:\"))\n",
    "def is10(num):\n",
    "    return 1 <= num <= 10\n",
    "print(is10(num))"
   ]
  },
  {
   "cell_type": "code",
   "execution_count": 1,
   "id": "821730fc-2ae1-4958-b6ae-55a7e2833829",
   "metadata": {},
   "outputs": [
    {
     "name": "stdin",
     "output_type": "stream",
     "text": [
      "enter any number 5\n",
      "enter another number 4\n"
     ]
    },
    {
     "name": "stdout",
     "output_type": "stream",
     "text": [
      "4.0\n"
     ]
    }
   ],
   "source": [
    "\n",
    "#Set A\n",
    "a=float(input(\"enter any number\"))\n",
    "b=float(input(\"enter another number\"))\n",
    "def big(a,b):\n",
    "    return a if a<b else b\n",
    "print(big(a,b))\n"
   ]
  },
  {
   "cell_type": "code",
   "execution_count": 3,
   "id": "23dbdad7-3141-478b-a5ea-babc38e8b9d4",
   "metadata": {},
   "outputs": [
    {
     "name": "stdout",
     "output_type": "stream",
     "text": [
      "21\n"
     ]
    }
   ],
   "source": [
    "#Set A\n",
    "numbers=[1,2,3,4,5,6]\n",
    "def s1(numbers):\n",
    "    \n",
    "    return sum(numbers)\n",
    "print(s1(numbers))\n"
   ]
  },
  {
   "cell_type": "code",
   "execution_count": 5,
   "id": "3d766ac9-325b-442f-8ad7-b692854ac8ce",
   "metadata": {},
   "outputs": [
    {
     "name": "stdin",
     "output_type": "stream",
     "text": [
      "enter side length: 4\n"
     ]
    },
    {
     "name": "stdout",
     "output_type": "stream",
     "text": [
      "area of square: 16\n"
     ]
    }
   ],
   "source": [
    "#Set A\n",
    "area_square=lambda side:side*side\n",
    "side=int(input(\"enter side length:\"))\n",
    "print(\"area of square:\",area_square(side))"
   ]
  },
  {
   "cell_type": "code",
   "execution_count": 8,
   "id": "ed6334c2-9809-47b5-bdc5-063ac25eb763",
   "metadata": {},
   "outputs": [
    {
     "name": "stdout",
     "output_type": "stream",
     "text": [
      "[1, 2, 3, 4, 5]\n"
     ]
    }
   ],
   "source": [
    "#Set B\n",
    "list1=[1,2,3,4,5,1,2,3]\n",
    "def duplicate(list1):\n",
    "    return list(set(list1))\n",
    "print(duplicate(list1))"
   ]
  },
  {
   "cell_type": "code",
   "execution_count": 10,
   "id": "18114a5a-48d1-4c65-96b4-98ab93c59227",
   "metadata": {},
   "outputs": [
    {
     "name": "stdin",
     "output_type": "stream",
     "text": [
      "enter a number : 5\n"
     ]
    },
    {
     "name": "stdout",
     "output_type": "stream",
     "text": [
      "False\n"
     ]
    }
   ],
   "source": [
    "#Set B\n",
    "num=int(input(\"enter a number :\"))\n",
    "def is_even(num):\n",
    "    return num%2==0\n",
    "print(is_even(num))"
   ]
  },
  {
   "cell_type": "code",
   "execution_count": 31,
   "id": "23d7633e-4550-40b9-b3be-8f7c2bf346f8",
   "metadata": {},
   "outputs": [
    {
     "name": "stdin",
     "output_type": "stream",
     "text": [
      "Enter a number: 8\n"
     ]
    },
    {
     "name": "stdout",
     "output_type": "stream",
     "text": [
      "8 is not a perfect square\n"
     ]
    }
   ],
   "source": [
    "#Set B\n",
    "def sqrt(num):\n",
    "    if num<0:\n",
    "        return False\n",
    "    i=0\n",
    "    while i*i<=num:\n",
    "        if i*i==num:\n",
    "            return True\n",
    "        i+=1\n",
    "    return False\n",
    "n=int(input(\"Enter a number:\"))\n",
    "if sqrt(n):\n",
    "    print(n,\"is a perfect square\")\n",
    "else:\n",
    "    print(n,\"is not a perfect square\")"
   ]
  },
  {
   "cell_type": "code",
   "execution_count": 35,
   "id": "cc906306-eacd-4f5b-93fa-3fc5e5a845b3",
   "metadata": {},
   "outputs": [
    {
     "name": "stdin",
     "output_type": "stream",
     "text": [
      "Enter a number : 1234\n"
     ]
    },
    {
     "name": "stdout",
     "output_type": "stream",
     "text": [
      "10\n"
     ]
    }
   ],
   "source": [
    "#Set B\n",
    "num=int(input(\"Enter a number :\"))\n",
    "def s2(num):\n",
    "    return sum(int(digit) for digit in str(num))\n",
    "print (s2(num))\n"
   ]
  }
 ],
 "metadata": {
  "kernelspec": {
   "display_name": "Python 3 (ipykernel)",
   "language": "python",
   "name": "python3"
  },
  "language_info": {
   "codemirror_mode": {
    "name": "ipython",
    "version": 3
   },
   "file_extension": ".py",
   "mimetype": "text/x-python",
   "name": "python",
   "nbconvert_exporter": "python",
   "pygments_lexer": "ipython3",
   "version": "3.13.5"
  }
 },
 "nbformat": 4,
 "nbformat_minor": 5
}

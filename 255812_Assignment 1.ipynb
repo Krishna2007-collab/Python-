{
 "cells": [
  {
   "cell_type": "code",
   "execution_count": 2,
   "id": "ae1534da",
   "metadata": {},
   "outputs": [
    {
     "name": "stdout",
     "output_type": "stream",
     "text": [
      "enter your number64\n",
      "square root of teh number is: 8.0\n",
      "cube root of the number is: 3.9999999999999996\n"
     ]
    }
   ],
   "source": [
    "#Set A\n",
    "a=int(input(\"enter your number\"))\n",
    "b=a**(1/2)\n",
    "print(\"square root of teh number is:\",b)\n",
    "c=a**(1/3)\n",
    "print(\"cube root of the number is:\",c)\n"
   ]
  },
  {
   "cell_type": "code",
   "execution_count": 3,
   "id": "7c3fe22b",
   "metadata": {},
   "outputs": [
    {
     "name": "stdout",
     "output_type": "stream",
     "text": [
      "entrer the length of teh rectangle:1\n",
      "enter the breadth of the rectangle2\n",
      "the perimeter of the rectangle is : 6\n",
      "the area of the recatngle is: 2\n"
     ]
    }
   ],
   "source": [
    "#Set A\n",
    "l=int(input(\"entrer the length of teh rectangle:\"))\n",
    "b=int(input(\"enter the breadth of the rectangle\"))\n",
    "perimeter=2*(l+b)\n",
    "area=l*b\n",
    "print(\"the perimeter of the rectangle is :\",perimeter)\n",
    "print(\"the area of the recatngle is:\",area)\n"
   ]
  },
  {
   "cell_type": "code",
   "execution_count": 6,
   "id": "889315c0",
   "metadata": {
    "scrolled": true
   },
   "outputs": [
    {
     "name": "stdout",
     "output_type": "stream",
     "text": [
      "enter first number:5\n",
      "enter second number4\n",
      "average of the numbers is: 4.5\n",
      "a is maximum\n",
      "b is minimum\n"
     ]
    }
   ],
   "source": [
    "#Set A\n",
    "a=int(input(\"enter first number:\"))\n",
    "b=int(input(\"enter second number\"))\n",
    "c=(a+b)/2\n",
    "print(\"average of the numbers is:\",c)\n",
    "if a>b:\n",
    "    print(\"a is maximum\")\n",
    "else:\n",
    "    print(\"a is minimum\")\n",
    "if b>a:\n",
    "    print(\"b is maximum\")\n",
    "else:\n",
    "    print(\"b is minimum\")\n",
    "    "
   ]
  },
  {
   "cell_type": "code",
   "execution_count": 7,
   "id": "86043058",
   "metadata": {
    "scrolled": true
   },
   "outputs": [
    {
     "name": "stdout",
     "output_type": "stream",
     "text": [
      "enter your number:15\n",
      "15\n",
      "the number is divisible by 3 as well as 5\n"
     ]
    }
   ],
   "source": [
    "#Set A\n",
    "a=int(input(\"enter your number:\"))\n",
    "print(a)\n",
    "if (a%3==0 and a%5==0):\n",
    "    print(\"the number is divisible by 3 as well as 5\")\n",
    "elif (a%3==0):\n",
    "    print(\"the  number is divisible by 3\")\n",
    "elif (a%5==0):\n",
    "    print(\"the number is divisible by 5\")\n",
    "else:\n",
    "    print(\"the number is not divisible by 3 nor 5\")"
   ]
  },
  {
   "cell_type": "code",
   "execution_count": 10,
   "id": "b493e8c4",
   "metadata": {},
   "outputs": [
    {
     "name": "stdout",
     "output_type": "stream",
     "text": [
      "enter a year:0\n",
      "the year is zero\n"
     ]
    }
   ],
   "source": [
    "#Set B \n",
    "year=int(input(\"enter a year:\"))\n",
    "if (year>0):\n",
    "    print(\"the year is positive\")\n",
    "elif(year<0):\n",
    "    print(\"the year is negative\")\n",
    "else:\n",
    "    print(\"the year is zero\")\n",
    "    "
   ]
  },
  {
   "cell_type": "code",
   "execution_count": 12,
   "id": "41c78fa7",
   "metadata": {},
   "outputs": [
    {
     "name": "stdout",
     "output_type": "stream",
     "text": [
      "what is your age?-1\n",
      "you are a ghost\n"
     ]
    }
   ],
   "source": [
    "#Set B \n",
    "a=int(input(\"what is your age?\"))\n",
    "if 0<=a<12:\n",
    "    print(\"you are a kid get away from screen\")\n",
    "elif 13<=a<18:\n",
    "    print(\"you are just a teenager padhai pe dhyaan do\")\n",
    "elif 18<a<=60:\n",
    "    print(\"you are an adult behave responsibly\")\n",
    "elif a>60:\n",
    "    print(\"you are a senior citizen now its too late to turn dreams to reality\")\n",
    "else:\n",
    "    print(\"you are a ghost\")"
   ]
  },
  {
   "cell_type": "code",
   "execution_count": 5,
   "id": "dbd18a7e",
   "metadata": {},
   "outputs": [
    {
     "name": "stdin",
     "output_type": "stream",
     "text": [
      "enter any positive number: 5\n"
     ]
    },
    {
     "name": "stdout",
     "output_type": "stream",
     "text": [
      "15.0\n"
     ]
    }
   ],
   "source": [
    "#Set B\n",
    "a=int(input(\"enter any positive number:\"))\n",
    "sum =(a*(a+1))/2\n",
    "print(sum)"
   ]
  },
  {
   "cell_type": "code",
   "execution_count": 3,
   "id": "c6bca3ba",
   "metadata": {},
   "outputs": [
    {
     "name": "stdin",
     "output_type": "stream",
     "text": [
      "enter your string mansadewedasnam\n"
     ]
    },
    {
     "name": "stdout",
     "output_type": "stream",
     "text": [
      "it is a palindrome\n"
     ]
    }
   ],
   "source": [
    "str1=input(\"enter your string\")\n",
    "if str1[::]==str1[::-1]:\n",
    "    print(\"it is a palindrome\")\n",
    "else:\n",
    "    print(\"not a palindrome\")\n",
    "    "
   ]
  },
  {
   "cell_type": "code",
   "execution_count": 4,
   "id": "cc8434f8",
   "metadata": {},
   "outputs": [
    {
     "name": "stdout",
     "output_type": "stream",
     "text": [
      "0\n",
      "2\n",
      "4\n",
      "6\n",
      "8\n",
      "10\n",
      "12\n",
      "14\n",
      "16\n",
      "18\n",
      "20\n",
      "22\n",
      "24\n",
      "26\n",
      "28\n",
      "30\n",
      "32\n",
      "34\n",
      "36\n",
      "38\n",
      "40\n",
      "42\n",
      "44\n",
      "46\n",
      "48\n",
      "50\n",
      "52\n",
      "54\n",
      "56\n",
      "58\n",
      "60\n",
      "62\n",
      "64\n",
      "66\n",
      "68\n",
      "70\n",
      "72\n",
      "74\n",
      "76\n",
      "78\n",
      "80\n",
      "82\n",
      "84\n",
      "86\n",
      "88\n",
      "90\n",
      "92\n",
      "94\n",
      "96\n",
      "98\n",
      "100\n"
     ]
    }
   ],
   "source": [
    "#Set B \n",
    "for i in range(0,101,2):\n",
    "    print(i)"
   ]
  },
  {
   "cell_type": "code",
   "execution_count": null,
   "id": "47618a7a-3c52-4731-976a-8f84cbb945ac",
   "metadata": {},
   "outputs": [],
   "source": []
  }
 ],
 "metadata": {
  "kernelspec": {
   "display_name": "Python 3 (ipykernel)",
   "language": "python",
   "name": "python3"
  },
  "language_info": {
   "codemirror_mode": {
    "name": "ipython",
    "version": 3
   },
   "file_extension": ".py",
   "mimetype": "text/x-python",
   "name": "python",
   "nbconvert_exporter": "python",
   "pygments_lexer": "ipython3",
   "version": "3.13.5"
  }
 },
 "nbformat": 4,
 "nbformat_minor": 5
}

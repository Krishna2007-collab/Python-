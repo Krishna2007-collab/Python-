{
 "cells": [
  {
   "cell_type": "code",
   "execution_count": null,
   "id": "6f117ed6",
   "metadata": {},
   "outputs": [],
   "source": [
    "# Python Assignment 6\n"
   ]
  }
 ],
 "metadata": {
  "kernelspec": {
   "display_name": "Python 3",
   "language": "python",
   "name": "python3"
  },
  "language_info": {
   "name": "python",
   "version": "3.13.5"
  }
 },
 "nbformat": 4,
 "nbformat_minor": 5
}

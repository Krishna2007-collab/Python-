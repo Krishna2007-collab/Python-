{
 "cells": [
  {
   "cell_type": "markdown",
   "id": "9172432a",
   "metadata": {},
   "source": [
    "SET A\n",
    "\n"
   ]
  },
  {
   "cell_type": "code",
   "execution_count": null,
   "id": "de184bdf",
   "metadata": {},
   "outputs": [
    {
     "ename": "",
     "evalue": "",
     "output_type": "error",
     "traceback": [
      "\u001b[1;31mFailed to start the Kernel. \n",
      "\u001b[1;31mUnable to start Kernel 'Python 3.13.5' due to a timeout waiting for the ports to get used. \n",
      "\u001b[1;31mView Jupyter <a href='command:jupyter.viewOutput'>log</a> for further details."
     ]
    }
   ],
   "source": [
    "# Program 1: Create and write into student.txt\n",
    "\n",
    "# Open file in write mode\n",
    "with open(\"student.txt\", \"w\") as file:\n",
    "    # Enter personal information\n",
    "    name = input(\"Enter your name: \")\n",
    "    class_name = input(\"Enter your class: \")\n",
    "    address = input(\"Enter your address: \")\n",
    "    institute = input(\"Enter your institute name: \")\n",
    "\n",
    "    # Write data to file\n",
    "    file.write(f\"Name: {name}\\n\")\n",
    "    file.write(f\"Class: {class_name}\\n\")\n",
    "    file.write(f\"Address: {address}\\n\")\n",
    "    file.write(f\"Institute: {institute}\\n\")\n",
    "       \n",
    "print(\"Information successfully written to student.txt!\")\n"
   ]
  },
  {
   "cell_type": "code",
   "execution_count": null,
   "id": "c1498958",
   "metadata": {},
   "outputs": [],
   "source": [
    "# Program 2: Read and display contents of student.txt\n",
    "\n",
    "try:\n",
    "    with open(\"student.txt\", \"r\") as file:\n",
    "        print(\"Contents of student.txt:\")\n",
    "        for line in file:\n",
    "            print(line.strip())\n",
    "except FileNotFoundError:\n",
    "    print(\"Error: student.txt not found. Please create the file first.\")\n"
   ]
  },
  {
   "cell_type": "code",
   "execution_count": null,
   "id": "16059471",
   "metadata": {},
   "outputs": [],
   "source": [
    "# Program 3: Copy contents from one file to another\n",
    "\n",
    "# Enter file names from user\n",
    "source_file = input(\"Enter the source file name: \")\n",
    "destination_file = input(\"Enter the destination file name: \")\n",
    "\n",
    "try:\n",
    "    # Open source file for reading and destination file for writing\n",
    "    with open(source_file, \"r\") as src, open(destination_file, \"w\") as dest:\n",
    "        # Copy all contents\n",
    "        contents = src.read()\n",
    "        dest.write(contents)\n",
    "\n",
    "    print(f\"Contents copied from {source_file} to {destination_file} successfully!\")\n",
    "\n",
    "    # Display the copied contents\n",
    "    print(\"\\nContents of the copied file:\")\n",
    "    with open(destination_file, \"r\") as dest:\n",
    "        print(dest.read())\n",
    "\n",
    "except FileNotFoundError:\n",
    "    print(\"Error: One of the files was not found.\")\n"
   ]
  },
  {
   "cell_type": "markdown",
   "id": "b4524380",
   "metadata": {},
   "source": [
    "SET B"
   ]
  },
  {
   "cell_type": "code",
   "execution_count": null,
   "id": "44dc54a0",
   "metadata": {},
   "outputs": [],
   "source": [
    "# Program 1: Count number of words in a text file\n",
    "\n",
    "file_name = input(\"Enter the file name: \")\n",
    "\n",
    "try:\n",
    "    with open(file_name, \"r\") as file:\n",
    "        content = file.read()\n",
    "        words = content.split()  # split text into words\n",
    "        word_count = len(words)\n",
    "        print(f\"The file '{file_name}' has {word_count} words.\")\n",
    "except FileNotFoundError:\n",
    "    print(\"Error: The specified file was not found.\")\n"
   ]
  },
  {
   "cell_type": "code",
   "execution_count": null,
   "id": "a5e06aab",
   "metadata": {},
   "outputs": [],
   "source": [
    "# Program 2: Read JSON file and print key-value pairs\n",
    "\n",
    "import json\n",
    "\n",
    "file_name = input(\"Enter the JSON file name: \")\n",
    "\n",
    "try:\n",
    "    with open(file_name, \"r\") as file:\n",
    "        data = json.load(file)  # load JSON data\n",
    "        print(\"Key-Value pairs in the JSON file:\")\n",
    "        for key, value in data.items():\n",
    "            print(f\"{key}: {value}\")\n",
    "except FileNotFoundError:\n",
    "    print(\"Error: The specified file was not found.\")\n",
    "except json.JSONDecodeError:\n",
    "    print(\"Error: The file is not a valid JSON file.\")\n",
    "\n",
    "{\n",
    "    \"name\": \"Ankita Ingale\",\n",
    "    \"class\": \"TY\",\n",
    "    \"institute\": \"MITWPU\",\n",
    "    \"address\": \"Pune\"\n",
    "}\n",
    "\n"
   ]
  },
  {
   "cell_type": "code",
   "execution_count": null,
   "id": "2e2f858e",
   "metadata": {},
   "outputs": [],
   "source": [
    "# Program 3: Read CSV file and print key-value pairs\n",
    "\n",
    "import csv\n",
    "\n",
    "file_name = input(\"Enter the CSV file name: \")\n",
    "\n",
    "try:\n",
    "    with open(file_name, \"r\") as file:\n",
    "        reader = csv.DictReader(file)  # reads rows as dictionaries\n",
    "        print(\"Key-Value pairs in the CSV file:\")\n",
    "        for row in reader:\n",
    "            print(dict(row))\n",
    "except FileNotFoundError:\n",
    "    print(\"Error: The specified file was not found.\")\n",
    "\n",
    "name,class,address,institute\n",
    "Ankita Ingale,TY,Pune,MITWPU\n",
    "\n",
    "\n"
   ]
  },
  {
   "cell_type": "code",
   "execution_count": null,
   "id": "6d86b5a5",
   "metadata": {},
   "outputs": [],
   "source": []
  }
 ],
 "metadata": {
  "kernelspec": {
   "display_name": "Python 3",
   "language": "python",
   "name": "python3"
  },
  "language_info": {
   "name": "python",
   "version": "3.13.5"
  }
 },
 "nbformat": 4,
 "nbformat_minor": 5
}

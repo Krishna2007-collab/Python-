{
 "cells": [
  {
   "cell_type": "code",
   "execution_count": 31,
   "id": "59d4bbe2-cdbf-415c-b213-04f72904899e",
   "metadata": {},
   "outputs": [
    {
     "name": "stdout",
     "output_type": "stream",
     "text": [
      "name os the student is:Ankita\n",
      "roll no of the student is:255812\n",
      "marks of the student are:90\n"
     ]
    }
   ],
   "source": [
    "#SET A\n",
    "#1\n",
    "class student:\n",
    "    def __init__(self, name, rollno,marks):\n",
    "        self.name=name\n",
    "        self.rollno=rollno\n",
    "        self.marks=marks\n",
    "    def display(self):\n",
    "        print(f\"name os the student is:{self.name}\")\n",
    "        print(f\"roll no of the student is:{self.rollno}\")\n",
    "        print(f\"marks of the student are:{self.marks}\")\n",
    "s1=student(\"Ankita\",255812,90)\n",
    "s1.display()"
   ]
  },
  {
   "cell_type": "code",
   "execution_count": 36,
   "id": "a5be3795-058e-4b3f-8ff8-f175fb90ab76",
   "metadata": {},
   "outputs": [
    {
     "name": "stdout",
     "output_type": "stream",
     "text": [
      "HIM_121 DEV 345 6768 987\n",
      "NET SALARY\n"
     ]
    },
    {
     "data": {
      "text/plain": [
       "8100"
      ]
     },
     "execution_count": 36,
     "metadata": {},
     "output_type": "execute_result"
    }
   ],
   "source": [
    "#SET A \n",
    "#2\n",
    "class employee:\n",
    "    def __init__(self,Emp_ID,Name,Salary,DA,HRA):\n",
    "        self.Emp_ID= Emp_ID\n",
    "        self.Name=Name\n",
    "        self.Salary=Salary \n",
    "        self.DA= DA\n",
    "        self.HRA=HRA\n",
    "    def display(self):\n",
    "        print(self.Emp_ID, self.Name,self.Salary,self.DA,self.HRA)\n",
    "    def calculator(self):\n",
    "        print(\"NET SALARY\")\n",
    "        return (self.Salary+self.DA+self.HRA)\n",
    "E1=employee(\"HIM_121\", \"DEV\", 345,6768,987)\n",
    "E1.display()\n",
    "E1.calculator()"
   ]
  },
  {
   "cell_type": "code",
   "execution_count": 16,
   "id": "9cd0dd31-9b83-46fd-b0d3-9ec2b44c7c31",
   "metadata": {},
   "outputs": [
    {
     "name": "stdout",
     "output_type": "stream",
     "text": [
      "\n",
      "Enter details for Book 1\n"
     ]
    },
    {
     "name": "stdin",
     "output_type": "stream",
     "text": [
      "Book Number:  1\n",
      "Author:  iuy\n",
      "Title:  iouy\n",
      "Price:  7689\n"
     ]
    },
    {
     "name": "stdout",
     "output_type": "stream",
     "text": [
      "\n",
      "Enter details for Book 2\n"
     ]
    },
    {
     "name": "stdin",
     "output_type": "stream",
     "text": [
      "Book Number:  2\n",
      "Author:  ih\n",
      "Title:  ih\n",
      "Price:  ujii\n"
     ]
    },
    {
     "name": "stdout",
     "output_type": "stream",
     "text": [
      "Please enter a valid number for price.\n"
     ]
    },
    {
     "name": "stdin",
     "output_type": "stream",
     "text": [
      "Price:  789\n"
     ]
    },
    {
     "name": "stdout",
     "output_type": "stream",
     "text": [
      "\n",
      "Enter details for Book 3\n"
     ]
    },
    {
     "name": "stdin",
     "output_type": "stream",
     "text": [
      "Book Number:  3\n",
      "Author:  jknh\n",
      "Title:  kljhn\n",
      "Price:  3567\n"
     ]
    },
    {
     "name": "stdout",
     "output_type": "stream",
     "text": [
      "\n",
      "Enter details for Book 4\n"
     ]
    },
    {
     "name": "stdin",
     "output_type": "stream",
     "text": [
      "Book Number:  4\n",
      "Author:  ljpi\n",
      "Title:  kjh\n",
      "Price:  7984\n"
     ]
    },
    {
     "name": "stdout",
     "output_type": "stream",
     "text": [
      "\n",
      "Enter details for Book 5\n"
     ]
    },
    {
     "name": "stdin",
     "output_type": "stream",
     "text": [
      "Book Number:  5\n",
      "Author:  khiijp\n",
      "Title:  jho\n",
      "Price:  798\n"
     ]
    },
    {
     "name": "stdout",
     "output_type": "stream",
     "text": [
      "\n",
      "Book No    Author               Title                          Price     \n",
      "---------------------------------------------------------------------------\n",
      "1          iuy                  iouy                           $7689.00   \n",
      "2          ih                   ih                             $789.00    \n",
      "3          jknh                 kljhn                          $3567.00   \n",
      "4          ljpi                 kjh                            $7984.00   \n",
      "5          khiijp               jho                            $798.00    \n"
     ]
    }
   ],
   "source": [
    "#SET A \n",
    "#3\n",
    "class Book:\n",
    "    def __init__(self, book_no, author, title, price):\n",
    "        self.book_no = book_no\n",
    "        self.author = author\n",
    "        self.title = title\n",
    "        self.price = price\n",
    "\n",
    "    def display(self):\n",
    "        return [self.book_no, self.author, self.title, self.price]\n",
    "books = []\n",
    "for i in range(5):\n",
    "    print(f\"\\nEnter details for Book {i+1}\")\n",
    "    book_no = input(\"Book Number: \")\n",
    "    author = input(\"Author: \")\n",
    "    title = input(\"Title: \")\n",
    "    while True:\n",
    "        try:\n",
    "            price = float(input(\"Price: \"))\n",
    "            break\n",
    "        except ValueError:\n",
    "            print(\"Please enter a valid number for price.\")\n",
    "    books.append(Book(book_no, author, title, price))\n",
    "print(\"\\n{:<10} {:<20} {:<30} {:<10}\".format(\"Book No\", \"Author\", \"Title\", \"Price\"))\n",
    "print(\"-\" * 75)\n",
    "for book in books:\n",
    "    b = book.display()\n",
    "    print(\"{:<10} {:<20} {:<30} ${:<10.2f}\".format(b[0], b[1], b[2], b[3]))"
   ]
  },
  {
   "cell_type": "code",
   "execution_count": 1,
   "id": "4237a55b-d55e-4792-925e-8af873988459",
   "metadata": {},
   "outputs": [
    {
     "name": "stdin",
     "output_type": "stream",
     "text": [
      "Enter first number:  1\n",
      "Enter second number:  2\n"
     ]
    },
    {
     "name": "stdout",
     "output_type": "stream",
     "text": [
      "\n",
      "--- Results ---\n",
      "Addition: 3.0\n",
      "Subtraction: -1.0\n",
      "Multiplication: 2.0\n",
      "Division: 0.5\n"
     ]
    }
   ],
   "source": [
    "#SET B\n",
    "#1\n",
    "class Calculator:\n",
    "    def __init__(self, num1, num2):\n",
    "        self.num1 = num1\n",
    "        self.num2 = num2\n",
    "\n",
    "    def add(self):\n",
    "        return self.num1 + self.num2\n",
    "\n",
    "    def subtract(self):\n",
    "        return self.num1 - self.num2\n",
    "\n",
    "    def multiply(self):\n",
    "        return self.num1 * self.num2\n",
    "\n",
    "    def divide(self):\n",
    "        if self.num2 == 0:\n",
    "            return \"Error: Division by zero\"\n",
    "        return self.num1 / self.num2\n",
    "try:\n",
    "    a = float(input(\"Enter first number: \"))\n",
    "    b = float(input(\"Enter second number: \"))\n",
    "\n",
    "    calc = Calculator(a, b)\n",
    "\n",
    "    print(\"\\n--- Results ---\")\n",
    "    print(f\"Addition: {calc.add()}\")\n",
    "    print(f\"Subtraction: {calc.subtract()}\")\n",
    "    print(f\"Multiplication: {calc.multiply()}\")\n",
    "    print(f\"Division: {calc.divide()}\")\n",
    "\n",
    "except ValueError:\n",
    "    print(\"Invalid input. Please enter numeric values.\")\n",
    "    "
   ]
  },
  {
   "cell_type": "code",
   "execution_count": 14,
   "id": "6ef3cc56-c195-4569-99f9-bec6321dcee6",
   "metadata": {},
   "outputs": [
    {
     "name": "stdout",
     "output_type": "stream",
     "text": [
      "Total cost of 10 Apples: $5.0\n",
      "Total cost of 15 Apples after update: $7.5\n"
     ]
    }
   ],
   "source": [
    "#SETB\n",
    "#2\n",
    "class ShopItem:\n",
    "    def __init__(self, item_name, quantity, price):\n",
    "        self.item_name = item_name\n",
    "        self.quantity = quantity\n",
    "        self.price = price\n",
    "\n",
    "    def total_cost(self):\n",
    "      \n",
    "        return self.quantity * self.price\n",
    "\n",
    "    def update_quantity(self, new_quantity):\n",
    "       \n",
    "        if new_quantity >= 0:\n",
    "            self.quantity = new_quantity\n",
    "        else:\n",
    "            print(\"Quantity cannot be negative.\")\n",
    "\n",
    "item = ShopItem(\"Apple\", 10, 0.5)\n",
    "\n",
    "print(f\"Total cost of {item.quantity} {item.item_name}s: ${item.total_cost()}\")\n",
    "\n",
    "item.update_quantity(15)\n",
    "\n",
    "print(f\"Total cost of {item.quantity} {item.item_name}s after update: ${item.total_cost()}\")"
   ]
  },
  {
   "cell_type": "code",
   "execution_count": 11,
   "id": "0ec39f81-53bb-4b23-8c42-b5ae8afc0079",
   "metadata": {},
   "outputs": [
    {
     "name": "stdout",
     "output_type": "stream",
     "text": [
      "Movies released after 2015:\n",
      "Black Panther (2018), Actor: Chadwick Boseman, Director: Ryan Coogler\n",
      "Parasite (2019), Actor: Song Kang-ho, Director: Bong Joon-ho\n",
      "Joker (2019), Actor: Joaquin Phoenix, Director: Todd Phillips\n"
     ]
    }
   ],
   "source": [
    "#Set B\n",
    "#3\n",
    "class Movie:\n",
    "    def __init__(self, title, actor, director, year):\n",
    "        self.title = title\n",
    "        self.actor = actor\n",
    "        self.director = director\n",
    "        self.year = year\n",
    "\n",
    "    def __str__(self):\n",
    "        return f\"{self.title} ({self.year}), Actor: {self.actor}, Director: {self.director}\"\n",
    "movies = [\n",
    "    Movie(\"Inception\", \"Leonardo DiCaprio\", \"Christopher Nolan\", 2010),\n",
    "    Movie(\"Black Panther\", \"Chadwick Boseman\", \"Ryan Coogler\", 2018),\n",
    "    Movie(\"Parasite\", \"Song Kang-ho\", \"Bong Joon-ho\", 2019),\n",
    "    Movie(\"The Avengers\", \"Robert Downey Jr.\", \"Joss Whedon\", 2012),\n",
    "    Movie(\"Joker\", \"Joaquin Phoenix\", \"Todd Phillips\", 2019)\n",
    "]\n",
    "print(\"Movies released after 2015:\")\n",
    "for movie in movies:\n",
    "    if movie.year > 2015:\n",
    "        print(movie)"
   ]
  },
  {
   "cell_type": "code",
   "execution_count": null,
   "id": "8def5dd8-3a67-4561-a5ba-97f1493776dd",
   "metadata": {},
   "outputs": [],
   "source": []
  }
 ],
 "metadata": {
  "kernelspec": {
   "display_name": "Python 3 (ipykernel)",
   "language": "python",
   "name": "python3"
  },
  "language_info": {
   "codemirror_mode": {
    "name": "ipython",
    "version": 3
   },
   "file_extension": ".py",
   "mimetype": "text/x-python",
   "name": "python",
   "nbconvert_exporter": "python",
   "pygments_lexer": "ipython3",
   "version": "3.13.5"
  }
 },
 "nbformat": 4,
 "nbformat_minor": 5
}
